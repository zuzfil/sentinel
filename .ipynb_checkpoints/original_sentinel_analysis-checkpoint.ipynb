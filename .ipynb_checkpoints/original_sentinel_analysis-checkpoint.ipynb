{
 "cells": [
  {
   "cell_type": "code",
   "execution_count": null,
   "id": "3ab71649-cbbc-4ca0-b00c-ac31dc6cb60a",
   "metadata": {},
   "outputs": [],
   "source": [
    "from sentinelsat import SentinelAPI\n",
    "\n",
    "user = 'zuza.filkova@gmail.com' \n",
    "password = 'ChcemObraykz53_' \n",
    "api = SentinelAPI(user, password, 'https://scihub.copernicus.eu/dhus')"
   ]
  },
  {
   "cell_type": "code",
   "execution_count": null,
   "id": "9d84cf53-13f5-480b-82f9-d1ec028cd0c8",
   "metadata": {},
   "outputs": [],
   "source": [
    "import geopandas as gpd\n",
    "import folium \n",
    "\n",
    "nReserve = gpd.read_file('NReserve/NaturalReserve_Polygon.shp')\n",
    "\n",
    "m = folium.Map([41.7023292727353, 12.34697305914639], zoom_start=12)\n",
    "folium.GeoJson(nReserve).add_to(m)\n",
    "m"
   ]
  }
 ],
 "metadata": {
  "kernelspec": {
   "display_name": "Python 3 (ipykernel)",
   "language": "python",
   "name": "python3"
  },
  "language_info": {
   "codemirror_mode": {
    "name": "ipython",
    "version": 3
   },
   "file_extension": ".py",
   "mimetype": "text/x-python",
   "name": "python",
   "nbconvert_exporter": "python",
   "pygments_lexer": "ipython3",
   "version": "3.9.12"
  }
 },
 "nbformat": 4,
 "nbformat_minor": 5
}
