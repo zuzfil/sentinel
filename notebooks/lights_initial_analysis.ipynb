{
 "cells": [
  {
   "cell_type": "code",
   "execution_count": 82,
   "id": "b7e8069e",
   "metadata": {},
   "outputs": [],
   "source": [
    "import os\n",
    "\n",
    "dir_project = os.path.join(os.getcwd())\n",
    "dir_data = os.path.join(dir_project, '..', 'nasa_lights')\n",
    "\n",
    "#Set up relevant folder paths.\n",
    "dir_nl = os.path.join(dir_project)\n",
    "dir_nl_annual = os.path.join(dir_nl, 'annual')\n",
    "dir_nl_monthly = os.path.join(dir_nl, 'monthly')\n",
    "dir_nl_temp = os.path.join(dir_nl, 'temp') #Folder to store tiff images, may be deleted after calculating NLI\n",
    "\n",
    "# csv_nl_annual = os.path.join(dir_data, 'nl', 'nl_workshop_sample_annual.csv')\n",
    "# csv_nl_monthly = os.path.join(dir_data, 'nl', 'nl_workshop_sample_monthly.csv')"
   ]
  },
  {
   "cell_type": "code",
   "execution_count": 83,
   "id": "988ce5b4",
   "metadata": {},
   "outputs": [
    {
     "data": {
      "text/plain": [
       "['C:\\\\Users\\\\zfilk\\\\Documents\\\\Python Scripts\\\\sentinel\\\\..\\\\nasa_lights\\\\monthly']"
      ]
     },
     "execution_count": 83,
     "metadata": {},
     "output_type": "execute_result"
    }
   ],
   "source": [
    "#Construct list of all folders containing raw hd5 images to convert.\n",
    "nl_filepaths = [os.path.join(dir_data, 'monthly')]\n",
    "nl_filepaths"
   ]
  },
  {
   "cell_type": "code",
   "execution_count": 84,
   "id": "d417c4c6",
   "metadata": {},
   "outputs": [],
   "source": [
    "#Function to convert HDFs to Tiffs\n",
    "def hdf_to_tiff(path_in, path_out, sublayer):\n",
    "    if path_in == path_out:\n",
    "        warnings.warn('Input path is the same as output path. Cannot overwrite file.')\n",
    "        return\n",
    "        \n",
    "    hdflayer = gdal.Open(path_in, gdal.GA_ReadOnly)\n",
    "    if not os.path.exists(os.path.dirname(path_out)): os.makedirs(os.path.dirname(path_out))\n",
    "    \n",
    "    subhdflayer = hdflayer.GetSubDatasets()[sublayer]\n",
    "    rlayer = gdal.Open(subhdflayer[0], gdal.GA_ReadOnly)\n",
    "    \n",
    "    HorizontalTileNumber = int(rlayer.GetMetadata_Dict()['HorizontalTileNumber'])\n",
    "    VerticalTileNumber = int(rlayer.GetMetadata_Dict()['VerticalTileNumber'])     \n",
    "    WestBoundCoord = (10*HorizontalTileNumber) - 180\n",
    "    NorthBoundCoord = 90-(10*VerticalTileNumber)\n",
    "    EastBoundCoord = WestBoundCoord + 10\n",
    "    SouthBoundCoord = NorthBoundCoord - 10        \n",
    "    EPSG = \"-a_srs EPSG:4326\" #WGS84\n",
    "    translateOptionText = EPSG+\" -a_ullr \" + str(WestBoundCoord) + \" \" + str(NorthBoundCoord) + \" \" + str(EastBoundCoord) + \" \" + str(SouthBoundCoord) + ' -a_nodata 65535'\n",
    "    translateoptions = gdal.TranslateOptions(gdal.ParseCommandLine(translateOptionText))\n",
    "    gdal.Translate(path_out, rlayer, options=translateoptions)"
   ]
  },
  {
   "cell_type": "code",
   "execution_count": 85,
   "id": "6bd29950",
   "metadata": {},
   "outputs": [
    {
     "ename": "NameError",
     "evalue": "name 'gdal' is not defined",
     "output_type": "error",
     "traceback": [
      "\u001b[1;31m---------------------------------------------------------------------------\u001b[0m",
      "\u001b[1;31mNameError\u001b[0m                                 Traceback (most recent call last)",
      "Input \u001b[1;32mIn [85]\u001b[0m, in \u001b[0;36m<cell line: 5>\u001b[1;34m()\u001b[0m\n\u001b[0;32m      9\u001b[0m \u001b[38;5;28;01mfor\u001b[39;00m hd5 \u001b[38;5;129;01min\u001b[39;00m hd5s:\n\u001b[0;32m     10\u001b[0m     tiff \u001b[38;5;241m=\u001b[39m os\u001b[38;5;241m.\u001b[39mpath\u001b[38;5;241m.\u001b[39mjoin(dir_nl_temp, os\u001b[38;5;241m.\u001b[39mpath\u001b[38;5;241m.\u001b[39msplitext(os\u001b[38;5;241m.\u001b[39mpath\u001b[38;5;241m.\u001b[39mbasename(hd5))[\u001b[38;5;241m0\u001b[39m] \u001b[38;5;241m+\u001b[39m \u001b[38;5;124mf\u001b[39m\u001b[38;5;124m'\u001b[39m\u001b[38;5;124m_\u001b[39m\u001b[38;5;132;01m{\u001b[39;00mnl_sublayer\u001b[38;5;132;01m}\u001b[39;00m\u001b[38;5;124m'\u001b[39m \u001b[38;5;241m+\u001b[39m \u001b[38;5;124m'\u001b[39m\u001b[38;5;124m.tif\u001b[39m\u001b[38;5;124m'\u001b[39m)\n\u001b[1;32m---> 11\u001b[0m     \u001b[43mhdf_to_tiff\u001b[49m\u001b[43m(\u001b[49m\u001b[43mpath_in\u001b[49m\u001b[38;5;241;43m=\u001b[39;49m\u001b[43mhd5\u001b[49m\u001b[43m,\u001b[49m\u001b[43m \u001b[49m\u001b[43mpath_out\u001b[49m\u001b[38;5;241;43m=\u001b[39;49m\u001b[43mtiff\u001b[49m\u001b[43m,\u001b[49m\u001b[43m \u001b[49m\u001b[43msublayer\u001b[49m\u001b[38;5;241;43m=\u001b[39;49m\u001b[43mnl_sublayer\u001b[49m\u001b[43m)\u001b[49m\n\u001b[0;32m     12\u001b[0m     lst_tiffs\u001b[38;5;241m.\u001b[39mappend(tiff)\n\u001b[0;32m     14\u001b[0m \u001b[38;5;66;03m#Merge the mosaic tiff files\u001b[39;00m\n",
      "Input \u001b[1;32mIn [84]\u001b[0m, in \u001b[0;36mhdf_to_tiff\u001b[1;34m(path_in, path_out, sublayer)\u001b[0m\n\u001b[0;32m      4\u001b[0m     warnings\u001b[38;5;241m.\u001b[39mwarn(\u001b[38;5;124m'\u001b[39m\u001b[38;5;124mInput path is the same as output path. Cannot overwrite file.\u001b[39m\u001b[38;5;124m'\u001b[39m)\n\u001b[0;32m      5\u001b[0m     \u001b[38;5;28;01mreturn\u001b[39;00m\n\u001b[1;32m----> 7\u001b[0m hdflayer \u001b[38;5;241m=\u001b[39m \u001b[43mgdal\u001b[49m\u001b[38;5;241m.\u001b[39mOpen(path_in, gdal\u001b[38;5;241m.\u001b[39mGA_ReadOnly)\n\u001b[0;32m      8\u001b[0m \u001b[38;5;28;01mif\u001b[39;00m \u001b[38;5;129;01mnot\u001b[39;00m os\u001b[38;5;241m.\u001b[39mpath\u001b[38;5;241m.\u001b[39mexists(os\u001b[38;5;241m.\u001b[39mpath\u001b[38;5;241m.\u001b[39mdirname(path_out)): os\u001b[38;5;241m.\u001b[39mmakedirs(os\u001b[38;5;241m.\u001b[39mpath\u001b[38;5;241m.\u001b[39mdirname(path_out))\n\u001b[0;32m     10\u001b[0m subhdflayer \u001b[38;5;241m=\u001b[39m hdflayer\u001b[38;5;241m.\u001b[39mGetSubDatasets()[sublayer]\n",
      "\u001b[1;31mNameError\u001b[0m: name 'gdal' is not defined"
     ]
    }
   ],
   "source": [
    "#Use the snow-free and snow-covered NL sublayers\n",
    "nl_sublayers = [0, 4]\n",
    "\n",
    "#Convert specified sublayers of annual NL raw hd5 rasters into tiff files, merge mosaics.\n",
    "for nl_filepath in nl_filepaths:\n",
    "    hd5s = [os.path.join(nl_filepath, file) for file in os.listdir(nl_filepath) if os.path.join(nl_filepath, file).endswith('.h5')]\n",
    "    for nl_sublayer in nl_sublayers:\n",
    "        lst_tiffs = []\n",
    "        for hd5 in hd5s:\n",
    "            tiff = os.path.join(dir_nl_temp, os.path.splitext(os.path.basename(hd5))[0] + f'_{nl_sublayer}' + '.tif')\n",
    "            hdf_to_tiff(path_in=hd5, path_out=tiff, sublayer=nl_sublayer)\n",
    "            lst_tiffs.append(tiff)\n",
    "        \n",
    "        #Merge the mosaic tiff files\n",
    "        if dir_nl_annual in nl_filepath:\n",
    "            resolution = 'annual'\n",
    "            year = nl_filepath.split(dir_nl)[1].split('/')[-1]\n",
    "            month = None\n",
    "            merged_tiff_file = os.path.join(dir_nl_temp, 'merged', 'annual', year, f'{year}_{nl_sublayer}.tif')\n",
    "        elif dir_nl_monthly in nl_filepath:\n",
    "            resolution = 'monthly'\n",
    "            year =  nl_filepath.split(dir_nl)[1].split('/')[-2]\n",
    "            month = nl_filepath.split(dir_nl)[1].split('/')[-1]\n",
    "            merged_tiff_file = os.path.join(dir_nl_temp, 'merged', 'monthly', year, month, f'{year}_{month}_{nl_sublayer}.tif')\n",
    "        \n",
    "        if not os.path.exists(os.path.dirname(merged_tiff_file)):\n",
    "            os.makedirs(os.path.dirname(merged_tiff_file))\n",
    "            \n",
    "        merged_raster, output_transform = merge(lst_tiffs)\n",
    "        with rasterio.open(lst_tiffs[0]) as src:\n",
    "            out_meta = src.meta.copy()\n",
    "        out_meta.update({'driver' : 'GTiff', 'height' : merged_raster.shape[1], 'width' : merged_raster.shape[2], 'transform' : output_transform})\n",
    "        with rasterio.open(merged_tiff_file, 'w', **out_meta) as out_raster:\n",
    "            out_raster.write(merged_raster) \n",
    "        \n",
    "        print(f'Built and saved merged tiff for year:{year}, month:{month}, layer:{nl_sublayer}.')"
   ]
  },
  {
   "cell_type": "code",
   "execution_count": null,
   "id": "189ca185",
   "metadata": {},
   "outputs": [],
   "source": []
  }
 ],
 "metadata": {
  "kernelspec": {
   "display_name": "Python 3 (ipykernel)",
   "language": "python",
   "name": "python3"
  },
  "language_info": {
   "codemirror_mode": {
    "name": "ipython",
    "version": 3
   },
   "file_extension": ".py",
   "mimetype": "text/x-python",
   "name": "python",
   "nbconvert_exporter": "python",
   "pygments_lexer": "ipython3",
   "version": "3.9.12"
  }
 },
 "nbformat": 4,
 "nbformat_minor": 5
}
